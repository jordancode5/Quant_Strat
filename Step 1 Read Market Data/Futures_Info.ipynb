{
 "cells": [
  {
   "cell_type": "code",
   "execution_count": 1,
   "id": "752e8ce4",
   "metadata": {},
   "outputs": [
    {
     "name": "stdout",
     "output_type": "stream",
     "text": [
      "Extensions to add: alpha_vantage@1.4.1, biztoc@1.4.2, cboe@1.4.1, deribit@1.0.1, ecb@1.4.2, econometrics@1.5.3, finra@1.4.1, finviz@1.3.1, government_us@1.4.1, multpl@1.1.1, nasdaq@1.4.1, openbb_charting@2.3.4, quantitative@1.4.3, seeking_alpha@1.4.1, stockgrid@1.4.1, technical@1.4.3, tmx@1.3.2, tradier@1.3.1, wsj@1.4.1, yfinance@1.4.6\n",
      "Extensions to remove: yfinance@1.4.3\n",
      "\n",
      "Building...\n"
     ]
    }
   ],
   "source": [
    "import numpy as np\n",
    "import pandas as pd\n",
    "from openbb import obb"
   ]
  },
  {
   "cell_type": "code",
   "execution_count": 2,
   "id": "c653a5d8",
   "metadata": {},
   "outputs": [],
   "source": [
    "obb.user.preferences.output_type = \"dataframe\""
   ]
  },
  {
   "cell_type": "code",
   "execution_count": 3,
   "id": "6f95c4f6",
   "metadata": {},
   "outputs": [],
   "source": [
    "data = obb.derivatives.futures.curve(symbol = \"VX\")"
   ]
  },
  {
   "cell_type": "code",
   "execution_count": 4,
   "id": "0eb9cffc",
   "metadata": {},
   "outputs": [
    {
     "name": "stdout",
     "output_type": "stream",
     "text": [
      "  expiration  price\n",
      "0    2025-05  18.80\n",
      "1    2025-06  19.75\n",
      "2    2025-07  20.15\n",
      "3    2025-08  20.35\n",
      "4    2025-09  20.55\n",
      "5    2025-10  20.65\n",
      "6    2025-11  20.65\n",
      "7    2025-12  20.45\n",
      "8    2026-01  20.75\n"
     ]
    }
   ],
   "source": [
    "print(data)"
   ]
  },
  {
   "cell_type": "code",
   "execution_count": 5,
   "id": "998f36ed",
   "metadata": {},
   "outputs": [
    {
     "name": "stdout",
     "output_type": "stream",
     "text": [
      "2.2.5\n"
     ]
    }
   ],
   "source": [
    "import numpy as np\n",
    "print(np.__version__)"
   ]
  },
  {
   "cell_type": "code",
   "execution_count": 6,
   "id": "63b37905",
   "metadata": {},
   "outputs": [
    {
     "name": "stdout",
     "output_type": "stream",
     "text": [
      "c:\\Users\\Jorda\\anaconda3\\envs\\my-other-quant-stack\\lib\\site-packages\\numpy\\__init__.py\n"
     ]
    },
    {
     "data": {
      "text/plain": [
       "<Axes: xlabel='expiration'>"
      ]
     },
     "execution_count": 6,
     "metadata": {},
     "output_type": "execute_result"
    },
    {
     "data": {
      "image/png": "[encoded data removed]",
      "text/plain": [
       "<Figure size 640x480 with 1 Axes>"
      ]
     },
     "metadata": {},
     "output_type": "display_data"
    }
   ],
   "source": [
    "print(np.__file__)\n",
    "data.index = pd.to_datetime(data.expiration)\n",
    "data.plot()\n",
    "# print(np.__file__)"
   ]
  },
  {
   "cell_type": "markdown",
   "id": "b5984541",
   "metadata": {},
   "source": [
    "List of Expiration years and dates in string format"
   ]
  },
  {
   "cell_type": "code",
   "execution_count": 13,
   "id": "16d93d04",
   "metadata": {},
   "outputs": [],
   "source": [
    "expirations = [\n",
    "    \"2024-12\",\n",
    "    \"2025-12\",\n",
    "    \"2026-12\",\n",
    "    \"2027-12\",\n",
    "    \"2028-12\",\n",
    "    \"2029-12\",\n",
    "    \"2030-12\",\n",
    "]"
   ]
  },
  {
   "cell_type": "code",
   "execution_count": 17,
   "id": "58e195b4",
   "metadata": {},
   "outputs": [],
   "source": [
    "contracts = []\n",
    "for expiration in expirations:\n",
    "    df = (\n",
    "        obb\n",
    "        .derivatives\n",
    "        .futures\n",
    "        .historical (\n",
    "            symbol=\"SOL_USDC-PERPETUAL\",\n",
    "            expiration = expiration,\n",
    "            start_date = \"2020-01-01\",\n",
    "            end_date = \"2022-12-31\"\n",
    "        )\n",
    "    ).rename(columns = {\n",
    "        \"close\": expiration\n",
    "    })\n",
    "\n",
    "    contracts.append(df[expiration])"
   ]
  },
  {
   "cell_type": "code",
   "execution_count": 18,
   "id": "3ceb9825",
   "metadata": {},
   "outputs": [
    {
     "name": "stdout",
     "output_type": "stream",
     "text": [
      "                           2024-12  2025-12  2026-12  2027-12  2028-12  \\\n",
      "date                                                                     \n",
      "2022-03-15 08:00:00+00:00    82.50    82.50    82.50    82.50    82.50   \n",
      "2022-03-16 08:00:00+00:00    87.16    87.16    87.16    87.16    87.16   \n",
      "2022-03-17 08:00:00+00:00    85.77    85.77    85.77    85.77    85.77   \n",
      "2022-03-18 08:00:00+00:00    89.41    89.41    89.41    89.41    89.41   \n",
      "2022-03-19 08:00:00+00:00    91.04    91.04    91.04    91.04    91.04   \n",
      "...                            ...      ...      ...      ...      ...   \n",
      "2022-12-25 08:00:00+00:00    11.30    11.30    11.30    11.30    11.30   \n",
      "2022-12-26 08:00:00+00:00    11.20    11.20    11.20    11.20    11.20   \n",
      "2022-12-27 08:00:00+00:00    10.13    10.13    10.13    10.13    10.13   \n",
      "2022-12-28 08:00:00+00:00     9.60     9.60     9.60     9.60     9.60   \n",
      "2022-12-29 08:00:00+00:00     9.12     9.12     9.12     9.12     9.12   \n",
      "\n",
      "                           2029-12  2030-12  \n",
      "date                                         \n",
      "2022-03-15 08:00:00+00:00    82.50    82.50  \n",
      "2022-03-16 08:00:00+00:00    87.16    87.16  \n",
      "2022-03-17 08:00:00+00:00    85.77    85.77  \n",
      "2022-03-18 08:00:00+00:00    89.41    89.41  \n",
      "2022-03-19 08:00:00+00:00    91.04    91.04  \n",
      "...                            ...      ...  \n",
      "2022-12-25 08:00:00+00:00    11.30    11.30  \n",
      "2022-12-26 08:00:00+00:00    11.20    11.20  \n",
      "2022-12-27 08:00:00+00:00    10.13    10.13  \n",
      "2022-12-28 08:00:00+00:00     9.60     9.60  \n",
      "2022-12-29 08:00:00+00:00     9.12     9.12  \n",
      "\n",
      "[290 rows x 7 columns]\n"
     ]
    }
   ],
   "source": [
    "historical = (\n",
    "    pd.DataFrame(contracts)\n",
    "    .transpose()\n",
    "    .dropna()\n",
    ")\n",
    "print(historical)"
   ]
  },
  {
   "cell_type": "code",
   "execution_count": null,
   "id": "5bc4504f",
   "metadata": {},
   "outputs": [],
   "source": []
  }
 ],
 "metadata": {
  "kernelspec": {
   "display_name": "my-other-quant-stack",
   "language": "python",
   "name": "python3"
  },
  "language_info": {
   "codemirror_mode": {
    "name": "ipython",
    "version": 3
   },
   "file_extension": ".py",
   "mimetype": "text/x-python",
   "name": "python",
   "nbconvert_exporter": "python",
   "pygments_lexer": "ipython3",
   "version": "3.10.16"
  }
 },
 "nbformat": 4,
 "nbformat_minor": 5
}
