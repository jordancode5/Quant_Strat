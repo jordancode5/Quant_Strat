{
 "cells": [
  {
   "cell_type": "code",
   "execution_count": 1,
   "id": "28663718",
   "metadata": {},
   "outputs": [],
   "source": [
    "from openbb import obb"
   ]
  },
  {
   "cell_type": "markdown",
   "id": "cfdb6e24",
   "metadata": {},
   "source": [
    "Let's see what information is in the options chain"
   ]
  },
  {
   "cell_type": "code",
   "execution_count": 8,
   "id": "f22c8b1b",
   "metadata": {},
   "outputs": [
    {
     "name": "stdout",
     "output_type": "stream",
     "text": [
      "<class 'pandas.core.frame.DataFrame'>\n",
      "RangeIndex: 9620 entries, 0 to 9619\n",
      "Data columns (total 29 columns):\n",
      " #   Column              Non-Null Count  Dtype  \n",
      "---  ------              --------------  -----  \n",
      " 0   underlying_symbol   9620 non-null   object \n",
      " 1   underlying_price    9620 non-null   float64\n",
      " 2   contract_symbol     9620 non-null   object \n",
      " 3   expiration          9620 non-null   object \n",
      " 4   dte                 9620 non-null   int64  \n",
      " 5   strike              9620 non-null   float64\n",
      " 6   option_type         9620 non-null   object \n",
      " 7   open_interest       9620 non-null   int64  \n",
      " 8   volume              9620 non-null   int64  \n",
      " 9   theoretical_price   9620 non-null   float64\n",
      " 10  last_trade_price    9620 non-null   float64\n",
      " 11  last_trade_time     8480 non-null   object \n",
      " 12  tick                9620 non-null   object \n",
      " 13  bid                 9620 non-null   float64\n",
      " 14  bid_size            9620 non-null   int64  \n",
      " 15  ask                 9620 non-null   float64\n",
      " 16  ask_size            9620 non-null   int64  \n",
      " 17  open                9620 non-null   float64\n",
      " 18  high                9620 non-null   float64\n",
      " 19  low                 9620 non-null   float64\n",
      " 20  prev_close          9620 non-null   float64\n",
      " 21  change              9620 non-null   float64\n",
      " 22  change_percent      9620 non-null   float64\n",
      " 23  implied_volatility  9620 non-null   float64\n",
      " 24  delta               9620 non-null   float64\n",
      " 25  gamma               9620 non-null   float64\n",
      " 26  theta               9620 non-null   float64\n",
      " 27  vega                9620 non-null   float64\n",
      " 28  rho                 9620 non-null   float64\n",
      "dtypes: float64(18), int64(5), object(6)\n",
      "memory usage: 2.1+ MB\n"
     ]
    }
   ],
   "source": [
    "obb.user.preferences.output_type = \"dataframe\" \n",
    "chains = obb.derivatives.options.chains(symbol=\"SPY\") \n",
    "chains.info()"
   ]
  },
  {
   "cell_type": "markdown",
   "id": "cbbf8f17",
   "metadata": {},
   "source": [
    "Looking at the options chain for SPY December 20, 2024 for $550"
   ]
  },
  {
   "cell_type": "code",
   "execution_count": 10,
   "id": "8d12fb2e",
   "metadata": {},
   "outputs": [
    {
     "name": "stderr",
     "output_type": "stream",
     "text": [
      "\n",
      "1 Failed download:\n",
      "['SPY251220C00550000']: YFTzMissingError('possibly delisted; no timezone found')\n"
     ]
    },
    {
     "ename": "EmptyDataError",
     "evalue": "\n[Empty] -> No results found. Try adjusting the query parameters.",
     "output_type": "error",
     "traceback": [
      "\u001b[1;31m---------------------------------------------------------------------------\u001b[0m",
      "\u001b[1;31mEmptyDataError\u001b[0m                            Traceback (most recent call last)",
      "Cell \u001b[1;32mIn[10], line 1\u001b[0m\n\u001b[1;32m----> 1\u001b[0m data \u001b[38;5;241m=\u001b[39m \u001b[43mobb\u001b[49m\u001b[38;5;241;43m.\u001b[39;49m\u001b[43mequity\u001b[49m\u001b[38;5;241;43m.\u001b[39;49m\u001b[43mprice\u001b[49m\u001b[38;5;241;43m.\u001b[39;49m\u001b[43mhistorical\u001b[49m\u001b[43m(\u001b[49m\n\u001b[0;32m      2\u001b[0m \u001b[43m    \u001b[49m\u001b[43msymbol\u001b[49m\u001b[38;5;241;43m=\u001b[39;49m\u001b[38;5;124;43m\"\u001b[39;49m\u001b[38;5;124;43mSPY251220C00550000\u001b[39;49m\u001b[38;5;124;43m\"\u001b[39;49m\u001b[43m,\u001b[49m\n\u001b[0;32m      3\u001b[0m \u001b[43m    \u001b[49m\u001b[43mprovider\u001b[49m\u001b[43m \u001b[49m\u001b[38;5;241;43m=\u001b[39;49m\u001b[43m \u001b[49m\u001b[38;5;124;43m\"\u001b[39;49m\u001b[38;5;124;43myfinance\u001b[39;49m\u001b[38;5;124;43m\"\u001b[39;49m\n\u001b[0;32m      4\u001b[0m \u001b[43m)\u001b[49m [[\u001b[38;5;124m\"\u001b[39m\u001b[38;5;124mclose\u001b[39m\u001b[38;5;124m\"\u001b[39m, \u001b[38;5;124m\"\u001b[39m\u001b[38;5;124mvolume\u001b[39m\u001b[38;5;124m\"\u001b[39m]]\n",
      "File \u001b[1;32mc:\\Users\\Jorda\\anaconda3\\envs\\my-other-quant-stack\\lib\\site-packages\\openbb_core\\app\\static\\utils\\decorators.py:97\u001b[0m, in \u001b[0;36mexception_handler.<locals>.wrapper\u001b[1;34m(*f_args, **f_kwargs)\u001b[0m\n\u001b[0;32m     93\u001b[0m     \u001b[38;5;28;01mraise\u001b[39;00m UnauthorizedError(\u001b[38;5;124mf\u001b[39m\u001b[38;5;124m\"\u001b[39m\u001b[38;5;130;01m\\n\u001b[39;00m\u001b[38;5;124m[Error] -> \u001b[39m\u001b[38;5;132;01m{\u001b[39;00me\u001b[38;5;132;01m}\u001b[39;00m\u001b[38;5;124m\"\u001b[39m)\u001b[38;5;241m.\u001b[39mwith_traceback(\n\u001b[0;32m     94\u001b[0m         tb\n\u001b[0;32m     95\u001b[0m     ) \u001b[38;5;28;01mfrom\u001b[39;00m\u001b[38;5;250m \u001b[39m\u001b[38;5;28;01mNone\u001b[39;00m\n\u001b[0;32m     96\u001b[0m \u001b[38;5;28;01mif\u001b[39;00m \u001b[38;5;28misinstance\u001b[39m(e, EmptyDataError):\n\u001b[1;32m---> 97\u001b[0m     \u001b[38;5;28;01mraise\u001b[39;00m EmptyDataError(\u001b[38;5;124mf\u001b[39m\u001b[38;5;124m\"\u001b[39m\u001b[38;5;130;01m\\n\u001b[39;00m\u001b[38;5;124m[Empty] -> \u001b[39m\u001b[38;5;132;01m{\u001b[39;00me\u001b[38;5;132;01m}\u001b[39;00m\u001b[38;5;124m\"\u001b[39m)\u001b[38;5;241m.\u001b[39mwith_traceback(tb) \u001b[38;5;28;01mfrom\u001b[39;00m\u001b[38;5;250m \u001b[39m\u001b[38;5;28;01mNone\u001b[39;00m\n\u001b[0;32m     98\u001b[0m \u001b[38;5;28;01mif\u001b[39;00m \u001b[38;5;28misinstance\u001b[39m(e, OpenBBError):\n\u001b[0;32m     99\u001b[0m     \u001b[38;5;28;01mraise\u001b[39;00m OpenBBError(\u001b[38;5;124mf\u001b[39m\u001b[38;5;124m\"\u001b[39m\u001b[38;5;130;01m\\n\u001b[39;00m\u001b[38;5;124m[Error] -> \u001b[39m\u001b[38;5;132;01m{\u001b[39;00me\u001b[38;5;132;01m}\u001b[39;00m\u001b[38;5;124m\"\u001b[39m)\u001b[38;5;241m.\u001b[39mwith_traceback(tb) \u001b[38;5;28;01mfrom\u001b[39;00m\u001b[38;5;250m \u001b[39m\u001b[38;5;28;01mNone\u001b[39;00m\n",
      "File \u001b[1;32mc:\\Users\\Jorda\\anaconda3\\envs\\my-other-quant-stack\\lib\\site-packages\\openbb_yfinance\\utils\\helpers.py:605\u001b[0m, in \u001b[0;36myf_download\u001b[1;34m(symbol, start_date, end_date, interval, period, prepost, actions, progress, ignore_tz, keepna, repair, rounding, group_by, adjusted, **kwargs)\u001b[0m\n\u001b[0;32m    602\u001b[0m         data \u001b[38;5;241m=\u001b[39m _data\n\u001b[0;32m    604\u001b[0m \u001b[38;5;28;01mif\u001b[39;00m data\u001b[38;5;241m.\u001b[39mempty:\n\u001b[1;32m--> 605\u001b[0m     \u001b[38;5;28;01mraise\u001b[39;00m EmptyDataError()\n\u001b[0;32m    607\u001b[0m data \u001b[38;5;241m=\u001b[39m data\u001b[38;5;241m.\u001b[39mreset_index()\n\u001b[0;32m    608\u001b[0m data \u001b[38;5;241m=\u001b[39m data\u001b[38;5;241m.\u001b[39mrename(columns\u001b[38;5;241m=\u001b[39m{\u001b[38;5;124m\"\u001b[39m\u001b[38;5;124mDate\u001b[39m\u001b[38;5;124m\"\u001b[39m: \u001b[38;5;124m\"\u001b[39m\u001b[38;5;124mdate\u001b[39m\u001b[38;5;124m\"\u001b[39m, \u001b[38;5;124m\"\u001b[39m\u001b[38;5;124mDatetime\u001b[39m\u001b[38;5;124m\"\u001b[39m: \u001b[38;5;124m\"\u001b[39m\u001b[38;5;124mdate\u001b[39m\u001b[38;5;124m\"\u001b[39m})\n",
      "\u001b[1;31mEmptyDataError\u001b[0m: \n[Empty] -> No results found. Try adjusting the query parameters."
     ]
    }
   ],
   "source": [
    "data = obb.equity.price.historical(\n",
    "    symbol=\"SPY251220C00550000\",\n",
    "    provider = \"yfinance\"\n",
    ") [[\"close\", \"volume\"]]\n",
    "\n"
   ]
  },
  {
   "cell_type": "code",
   "execution_count": null,
   "id": "e19bae5f",
   "metadata": {},
   "outputs": [],
   "source": []
  }
 ],
 "metadata": {
  "kernelspec": {
   "display_name": "my-other-quant-stack",
   "language": "python",
   "name": "python3"
  },
  "language_info": {
   "codemirror_mode": {
    "name": "ipython",
    "version": 3
   },
   "file_extension": ".py",
   "mimetype": "text/x-python",
   "name": "python",
   "nbconvert_exporter": "python",
   "pygments_lexer": "ipython3",
   "version": "3.10.16"
  }
 },
 "nbformat": 4,
 "nbformat_minor": 5
}
